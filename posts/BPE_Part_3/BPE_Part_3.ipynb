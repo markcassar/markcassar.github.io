{
 "cells": [
  {
   "cell_type": "raw",
   "metadata": {
    "vscode": {
     "languageId": "raw"
    }
   },
   "source": [
    "---\n",
    "title: \"Understanding Byte Pair Encoding: Part 3: the Algorithm\"\n",
    "author: \"Mark Cassar\"\n",
    "date: \"7 January 2025\"\n",
    "date-modified: \"10 January 2025\"\n",
    "format:\n",
    "  html:\n",
    "    code-fold: false\n",
    "---"
   ]
  },
  {
   "cell_type": "markdown",
   "metadata": {},
   "source": [
    "## Understanding Byte Pair Encoding: Part 3: the Algorithm\n",
    "\n",
    "I wrote about encodings and the basics of tokenization in my [two earlier posts](https://markcassar.github.io/), so in this post, I will dig into the actual algorithm of byte-pair encoding (BPE). In the paper [Language Models are Unsupervised Multitask Learners](https://cdn.openai.com/better-language-models/language_models_are_unsupervised_multitask_learners.pdf), which introduces GPT2, the authors note they use BPE at the byte level and that some preprocessing improves results by explicitly avoiding merges across character categories. It would seem, then, that interpreting text as a sequence of bytes, and not as a sequence of Unicode code points, is at the heart of the BPE method. \n",
    "\n",
    "I'll get into some of these preprocessing details in another post, but, for now, I just want to get an idea of how this works. \n",
    "\n",
    "The [paper](http://www.pennelynn.com/Documents/CUJ/HTML/94HTML/19940045.HTM) that introduced BPE states that *\"The algorithm compresses data by finding the most frequently occurring pairs of adjacent bytes in the data and replacing all instances of the pair with a byte that was not in the original data. The algorithm repeats this process until no further compression is possible, ...\"*\n",
    "\n",
    "\n",
    "\n",
    "<figure>\n",
    "<center><img src=\"bpe_sample.png\"  width=\"200\">\n",
    "  <figcaption>\n",
    "    <cite><a href=\"https://huggingface.co/learn/nlp-course/en/chapter6/5\">Credit: Huggingface.co</a></cite> \n",
    "  </figcaption></center>\n",
    "</figure>"
   ]
  },
  {
   "cell_type": "markdown",
   "metadata": {},
   "source": [
    "### Character level\n",
    "\n",
    "Using the example text `ababcabcd` given in the paper noted above, I will outline the basic process. To do this, however, I need a way to find the most frequently occurring pairs: "
   ]
  },
  {
   "cell_type": "code",
   "execution_count": 43,
   "metadata": {},
   "outputs": [],
   "source": [
    "def get_stats(chars):\n",
    "    stats = {}\n",
    "    for i in range(len(chars)-1):\n",
    "        stats[(chars[i], chars[i+1])] = stats.get((chars[i], chars[i+1]), 0) + 1 \n",
    "    stats = dict(sorted(stats.items(), key=lambda item: item[1], reverse=True))\n",
    "    return stats "
   ]
  },
  {
   "cell_type": "markdown",
   "metadata": {},
   "source": [
    "I will work at the character level for now, since it is easier to see how this works. Later, I will switch over to using bytes. To begin, I'll look at the number of unique tokens and note that no pairs have yet been merged:"
   ]
  },
  {
   "cell_type": "code",
   "execution_count": 44,
   "metadata": {},
   "outputs": [
    {
     "name": "stdout",
     "output_type": "stream",
     "text": [
      "Current text: ababcabcd\n",
      "Number of characters in current text: 9\n",
      "Tokens: ['a', 'b', 'c', 'd']\n",
      "Number of tokens: 4\n",
      "Pairs merged: {}\n"
     ]
    }
   ],
   "source": [
    "text = 'ababcabcd' \n",
    "tokens = list(sorted(set(text)))\n",
    "merges = {} \n",
    "\n",
    "print(f\"Current text: {text}\")\n",
    "print(f\"Number of characters in current text: {len(text)}\")\n",
    "print(f\"Tokens: {tokens}\")\n",
    "print(f\"Number of tokens: {len(tokens)}\")\n",
    "print(f\"Pairs merged: {merges}\")"
   ]
  },
  {
   "cell_type": "markdown",
   "metadata": {},
   "source": [
    "Now, I determine the frequency of occurrence for all the pairs of adjacent characters in the text:"
   ]
  },
  {
   "cell_type": "code",
   "execution_count": 45,
   "metadata": {},
   "outputs": [
    {
     "data": {
      "text/plain": [
       "{('a', 'b'): 3, ('b', 'c'): 2, ('b', 'a'): 1, ('c', 'a'): 1, ('c', 'd'): 1}"
      ]
     },
     "execution_count": 45,
     "metadata": {},
     "output_type": "execute_result"
    }
   ],
   "source": [
    "stats = get_stats(text)\n",
    "stats"
   ]
  },
  {
   "cell_type": "markdown",
   "metadata": {},
   "source": [
    "Since `a` and `b` occur together most frequently, we will merge those. To do this, we create a new character (one that doesn't currently exist in our set of unique tokens), replace all occurrences of `ab` with the new character and keep track of the merge in the `merges` dictionary:"
   ]
  },
  {
   "cell_type": "code",
   "execution_count": 46,
   "metadata": {},
   "outputs": [
    {
     "name": "stdout",
     "output_type": "stream",
     "text": [
      "Current text: XXcXcd\n",
      "Number of characters in current text: 6\n",
      "Tokens: ['X', 'a', 'b', 'c', 'd']\n",
      "Number of tokens: 5\n",
      "Pairs merged: {('a', 'b'): 'X'}\n"
     ]
    }
   ],
   "source": [
    "text_1 = text.replace('ab', 'X') \n",
    "tokens = list(sorted(set(text + text_1)))\n",
    "merges[('a', 'b')] = 'X'\n",
    "\n",
    "print(f\"Current text: {text_1}\")\n",
    "print(f\"Number of characters in current text: {len(text_1)}\")\n",
    "print(f\"Tokens: {tokens}\")\n",
    "print(f\"Number of tokens: {len(tokens)}\")\n",
    "print(f\"Pairs merged: {merges}\")"
   ]
  },
  {
   "cell_type": "markdown",
   "metadata": {},
   "source": [
    "I now repeat the process: "
   ]
  },
  {
   "cell_type": "code",
   "execution_count": 47,
   "metadata": {},
   "outputs": [
    {
     "data": {
      "text/plain": [
       "{('X', 'c'): 2, ('X', 'X'): 1, ('c', 'X'): 1, ('c', 'd'): 1}"
      ]
     },
     "execution_count": 47,
     "metadata": {},
     "output_type": "execute_result"
    }
   ],
   "source": [
    "stats = get_stats(text_1)\n",
    "stats"
   ]
  },
  {
   "cell_type": "markdown",
   "metadata": {},
   "source": [
    "This time, `X` and `c` are the most frequent pair."
   ]
  },
  {
   "cell_type": "code",
   "execution_count": 64,
   "metadata": {},
   "outputs": [
    {
     "name": "stdout",
     "output_type": "stream",
     "text": [
      "Current text: XYYd\n",
      "Number of characters in current text: 4\n",
      "Tokens: ['X', 'Y', 'a', 'b', 'c', 'd']\n",
      "Number of tokens: 6\n",
      "Pairs merged: {('a', 'b'): 'X', ('X', 'c'): 'Y'}\n"
     ]
    }
   ],
   "source": [
    "text_2 = text_1.replace('Xc', 'Y') \n",
    "tokens = list(sorted(set(text + text_1 + text_2)))\n",
    "merges[('X', 'c')] = 'Y'\n",
    "\n",
    "\n",
    "print(f\"Current text: {text_2}\")\n",
    "print(f\"Number of characters in current text: {len(text_2)}\")\n",
    "print(f\"Tokens: {tokens}\")\n",
    "print(f\"Number of tokens: {len(tokens)}\")\n",
    "print(f\"Pairs merged: {merges}\")"
   ]
  },
  {
   "cell_type": "markdown",
   "metadata": {},
   "source": [
    "And again, I check the stats:"
   ]
  },
  {
   "cell_type": "code",
   "execution_count": 65,
   "metadata": {},
   "outputs": [
    {
     "data": {
      "text/plain": [
       "{('X', 'Y'): 1, ('Y', 'Y'): 1, ('Y', 'd'): 1}"
      ]
     },
     "execution_count": 65,
     "metadata": {},
     "output_type": "execute_result"
    }
   ],
   "source": [
    "stats = get_stats(text_2)\n",
    "stats"
   ]
  },
  {
   "cell_type": "markdown",
   "metadata": {},
   "source": [
    "No further compression can happen now through the merging of pairs because if I merge, say, `X` and `Y`, since the pair only occurs once I achieve no compression because I also have to add a new token, say, `R = XY`, to my list of unique tokens. Thus, the number of characters in the text will go down by 1, but the number of tokens will go up by 1; there is no benefit to merging pairs that have a frequency of 1. So, I stop the process.\n",
    "\n"
   ]
  },
  {
   "cell_type": "markdown",
   "metadata": {},
   "source": [
    "### Byte level\n",
    "\n",
    "For clarity, at least to start, I kept this process at the character level. To get the method that was used for GPT2, I will repeat a slightly modified version of what I did above, but at the byte level. I discussed UTF-8 encoding in Part 1, but to make it easier to rember that we are working at the byte level, I have added some emojis to the original text:"
   ]
  },
  {
   "cell_type": "code",
   "execution_count": 126,
   "metadata": {},
   "outputs": [
    {
     "name": "stdout",
     "output_type": "stream",
     "text": [
      "Text: 😄😄 ababcabcd 😄😄\n",
      "Number of characters in original text: 15\n",
      "\n",
      "Raw bytes version of text: b'\\xf0\\x9f\\x98\\x84\\xf0\\x9f\\x98\\x84 ababcabcd \\xf0\\x9f\\x98\\x84\\xf0\\x9f\\x98\\x84'\n",
      "Number of bytes in raw bytes version of text: 27\n"
     ]
    }
   ],
   "source": [
    "text = '😄😄 ababcabcd 😄😄'\n",
    "byte_text = text.encode('utf-8')\n",
    "\n",
    "print(f\"Text: {text}\")\n",
    "print(f\"Number of characters in original text: {len(text)}\")\n",
    "print()\n",
    "print(f\"Raw bytes version of text: {byte_text}\")\n",
    "print(f\"Number of bytes in raw bytes version of text: {len(byte_text)}\")\n"
   ]
  },
  {
   "cell_type": "markdown",
   "metadata": {},
   "source": [
    "The `b` in front of the string let's me know that this is a Python [`bytes` object](https://docs.python.org/3/library/stdtypes.html#bytes-objects):"
   ]
  },
  {
   "cell_type": "code",
   "execution_count": 127,
   "metadata": {},
   "outputs": [
    {
     "data": {
      "text/plain": [
       "bytes"
      ]
     },
     "execution_count": 127,
     "metadata": {},
     "output_type": "execute_result"
    }
   ],
   "source": [
    "type(byte_text)"
   ]
  },
  {
   "cell_type": "markdown",
   "metadata": {},
   "source": [
    "The UTF-8 encoding scheme allows any character to be represented by a sequence of 1, 2, 3, or 4 bytes. In the text here, the emoji requires 4 bytes but the lowercase English letters only need 1 byte each. I know each byte has a value between 0 and 255, so it will be easier to use the equivalent values instead of the raw bytes:"
   ]
  },
  {
   "cell_type": "code",
   "execution_count": 128,
   "metadata": {},
   "outputs": [
    {
     "name": "stdout",
     "output_type": "stream",
     "text": [
      "[240, 159, 152, 132, 240, 159, 152, 132, 32, 97, 98, 97, 98, 99, 97, 98, 99, 100, 32, 240, 159, 152, 132, 240, 159, 152, 132]\n"
     ]
    }
   ],
   "source": [
    "text_values = list(map(int, byte_text))\n",
    "print(text_values)"
   ]
  },
  {
   "cell_type": "markdown",
   "metadata": {},
   "source": [
    "It is important that I remember that the values here are not Unicode code points, they are byte values. The fact that Unicode characters with code points below 256 have the same value is simply a result of those characters can be represented by 1 byte and all such character code points equal to their byte value. To remember this, I look at the emoji, which is 4 bytes, and it's Unicode code point is 128516. which is not equal to the '240, 159, 152, 132' values as seen in `text_values`:"
   ]
  },
  {
   "cell_type": "code",
   "execution_count": 129,
   "metadata": {},
   "outputs": [
    {
     "data": {
      "text/plain": [
       "(97, 128516)"
      ]
     },
     "execution_count": 129,
     "metadata": {},
     "output_type": "execute_result"
    }
   ],
   "source": [
    "ord('a'), ord('😄')"
   ]
  },
  {
   "cell_type": "markdown",
   "metadata": {},
   "source": [
    "I will now repeat the process I did above: "
   ]
  },
  {
   "cell_type": "code",
   "execution_count": 130,
   "metadata": {},
   "outputs": [
    {
     "name": "stdout",
     "output_type": "stream",
     "text": [
      "Current text as byte values: [240, 159, 152, 132, 240, 159, 152, 132, 32, 97, 98, 97, 98, 99, 97, 98, 99, 100, 32, 240, 159, 152, 132, 240, 159, 152, 132]\n",
      "Tokens: [32, 97, 98, 99, 100, 132, 152, 159, 240]\n",
      "Pairs merged: {}\n"
     ]
    }
   ],
   "source": [
    "tokens = list(sorted(set(text_values)))\n",
    "merges = {} \n",
    "\n",
    "print(f\"Current text as byte values: {text_values}\")\n",
    "print(f\"Tokens: {tokens}\")\n",
    "print(f\"Pairs merged: {merges}\")"
   ]
  },
  {
   "cell_type": "markdown",
   "metadata": {},
   "source": [
    "And get the pair frequencies:"
   ]
  },
  {
   "cell_type": "code",
   "execution_count": 131,
   "metadata": {},
   "outputs": [
    {
     "data": {
      "text/plain": [
       "{(240, 159): 4,\n",
       " (159, 152): 4,\n",
       " (152, 132): 4,\n",
       " (97, 98): 3,\n",
       " (132, 240): 2,\n",
       " (98, 99): 2,\n",
       " (132, 32): 1,\n",
       " (32, 97): 1,\n",
       " (98, 97): 1,\n",
       " (99, 97): 1,\n",
       " (99, 100): 1,\n",
       " (100, 32): 1,\n",
       " (32, 240): 1}"
      ]
     },
     "execution_count": 131,
     "metadata": {},
     "output_type": "execute_result"
    }
   ],
   "source": [
    "stats = get_stats(text_values)\n",
    "stats"
   ]
  },
  {
   "cell_type": "markdown",
   "metadata": {},
   "source": [
    "I have 3 pairs with the highest frequency, so I will pick the first that occurs, (240, 159), and merge those. Since I am dealing with byte values, instead of creating a new character not in my current set of tokens, I will create a new byte value for this merged pair. Since I am dealing in single bytes, the first available value will be 256.\n",
    "\n",
    "To make this easier, I'll introduce a function to do the merging:"
   ]
  },
  {
   "cell_type": "code",
   "execution_count": 132,
   "metadata": {},
   "outputs": [],
   "source": [
    "def replace_pairs(text, pair, idx):\n",
    "  new_text = []\n",
    "  i = 0\n",
    "  while i < len(text):\n",
    "    if text[i] == pair[0] and i < len(text) - 1 and text[i + 1] == pair[1]:\n",
    "      new_text.append(idx)\n",
    "      i += 2  \n",
    "    else:\n",
    "      new_text.append(text[i])\n",
    "      i += 1\n",
    "  return new_text"
   ]
  },
  {
   "cell_type": "markdown",
   "metadata": {},
   "source": [
    "And now I do the merge:"
   ]
  },
  {
   "cell_type": "code",
   "execution_count": 133,
   "metadata": {},
   "outputs": [
    {
     "name": "stdout",
     "output_type": "stream",
     "text": [
      "Current text as byte values: [256, 152, 132, 256, 152, 132, 32, 97, 98, 97, 98, 99, 97, 98, 99, 100, 32, 256, 152, 132, 256, 152, 132]\n",
      "Tokens: [32, 97, 98, 99, 100, 132, 152, 159, 240, 256]\n",
      "Pairs merged: {(240, 159): 256}\n"
     ]
    }
   ],
   "source": [
    "text_values = replace_pairs(text_values, (240, 159), 256)\n",
    "tokens.append(256)\n",
    "merges[(240, 159)] = 256 \n",
    "\n",
    "print(f\"Current text as byte values: {text_values}\")\n",
    "print(f\"Tokens: {tokens}\")\n",
    "print(f\"Pairs merged: {merges}\")"
   ]
  },
  {
   "cell_type": "markdown",
   "metadata": {},
   "source": [
    "Check stats:"
   ]
  },
  {
   "cell_type": "code",
   "execution_count": 134,
   "metadata": {},
   "outputs": [
    {
     "data": {
      "text/plain": [
       "{(256, 152): 4,\n",
       " (152, 132): 4,\n",
       " (97, 98): 3,\n",
       " (132, 256): 2,\n",
       " (98, 99): 2,\n",
       " (132, 32): 1,\n",
       " (32, 97): 1,\n",
       " (98, 97): 1,\n",
       " (99, 97): 1,\n",
       " (99, 100): 1,\n",
       " (100, 32): 1,\n",
       " (32, 256): 1}"
      ]
     },
     "execution_count": 134,
     "metadata": {},
     "output_type": "execute_result"
    }
   ],
   "source": [
    "stats = get_stats(text_values)\n",
    "stats"
   ]
  },
  {
   "cell_type": "markdown",
   "metadata": {},
   "source": [
    "Merge:"
   ]
  },
  {
   "cell_type": "code",
   "execution_count": 135,
   "metadata": {},
   "outputs": [
    {
     "name": "stdout",
     "output_type": "stream",
     "text": [
      "Current text as byte values: [257, 132, 257, 132, 32, 97, 98, 97, 98, 99, 97, 98, 99, 100, 32, 257, 132, 257, 132]\n",
      "Tokens: [32, 97, 98, 99, 100, 132, 152, 159, 240, 256, 257]\n",
      "Pairs merged: {(240, 159): 256, (256, 152): 257}\n"
     ]
    }
   ],
   "source": [
    "text_values = replace_pairs(text_values, (256, 152), 257)\n",
    "tokens.append(257)\n",
    "merges[(256, 152)] = 257\n",
    "\n",
    "print(f\"Current text as byte values: {text_values}\")\n",
    "print(f\"Tokens: {tokens}\")\n",
    "print(f\"Pairs merged: {merges}\")"
   ]
  },
  {
   "cell_type": "markdown",
   "metadata": {},
   "source": [
    "Check stats:"
   ]
  },
  {
   "cell_type": "code",
   "execution_count": 136,
   "metadata": {},
   "outputs": [
    {
     "data": {
      "text/plain": [
       "{(257, 132): 4,\n",
       " (97, 98): 3,\n",
       " (132, 257): 2,\n",
       " (98, 99): 2,\n",
       " (132, 32): 1,\n",
       " (32, 97): 1,\n",
       " (98, 97): 1,\n",
       " (99, 97): 1,\n",
       " (99, 100): 1,\n",
       " (100, 32): 1,\n",
       " (32, 257): 1}"
      ]
     },
     "execution_count": 136,
     "metadata": {},
     "output_type": "execute_result"
    }
   ],
   "source": [
    "stats = get_stats(text_values)\n",
    "stats"
   ]
  },
  {
   "cell_type": "markdown",
   "metadata": {},
   "source": [
    "Merge:"
   ]
  },
  {
   "cell_type": "code",
   "execution_count": 137,
   "metadata": {},
   "outputs": [
    {
     "name": "stdout",
     "output_type": "stream",
     "text": [
      "Current text as byte values: [258, 258, 32, 97, 98, 97, 98, 99, 97, 98, 99, 100, 32, 258, 258]\n",
      "Tokens: [32, 97, 98, 99, 100, 132, 152, 159, 240, 256, 257, 258]\n",
      "Pairs merged: {(240, 159): 256, (256, 152): 257, (257, 132): 258}\n"
     ]
    }
   ],
   "source": [
    "text_values = replace_pairs(text_values, (257, 132), 258)\n",
    "tokens.append(258)\n",
    "merges[(257, 132)] = 258\n",
    "\n",
    "print(f\"Current text as byte values: {text_values}\")\n",
    "print(f\"Tokens: {tokens}\")\n",
    "print(f\"Pairs merged: {merges}\")"
   ]
  },
  {
   "cell_type": "markdown",
   "metadata": {},
   "source": [
    "Check stats:"
   ]
  },
  {
   "cell_type": "code",
   "execution_count": 138,
   "metadata": {},
   "outputs": [
    {
     "data": {
      "text/plain": [
       "{(97, 98): 3,\n",
       " (258, 258): 2,\n",
       " (98, 99): 2,\n",
       " (258, 32): 1,\n",
       " (32, 97): 1,\n",
       " (98, 97): 1,\n",
       " (99, 97): 1,\n",
       " (99, 100): 1,\n",
       " (100, 32): 1,\n",
       " (32, 258): 1}"
      ]
     },
     "execution_count": 138,
     "metadata": {},
     "output_type": "execute_result"
    }
   ],
   "source": [
    "stats = get_stats(text_values)\n",
    "stats"
   ]
  },
  {
   "cell_type": "markdown",
   "metadata": {},
   "source": [
    "Merge:"
   ]
  },
  {
   "cell_type": "code",
   "execution_count": 139,
   "metadata": {},
   "outputs": [
    {
     "name": "stdout",
     "output_type": "stream",
     "text": [
      "Current text as byte values: [258, 258, 32, 259, 259, 99, 259, 99, 100, 32, 258, 258]\n",
      "Tokens: [32, 97, 98, 99, 100, 132, 152, 159, 240, 256, 257, 258, 259]\n",
      "Pairs merged: {(240, 159): 256, (256, 152): 257, (257, 132): 258, (97, 98): 259}\n"
     ]
    }
   ],
   "source": [
    "text_values = replace_pairs(text_values, (97, 98), 259)\n",
    "tokens.append(259)\n",
    "merges[(97, 98)] = 259\n",
    "\n",
    "print(f\"Current text as byte values: {text_values}\")\n",
    "print(f\"Tokens: {tokens}\")\n",
    "print(f\"Pairs merged: {merges}\")"
   ]
  },
  {
   "cell_type": "markdown",
   "metadata": {},
   "source": [
    "I will stop here, even though there are a couple more merges I could do, as I think the process is pretty clear now. All of this could, of course, be cleaned up code-wise but I wanted to go step by step with a semi-manual process so that the algorithm would sink in. \n",
    "\n",
    "What comes out of this BPE process is a set of tokens, which would be the vocabulary, and an ordered list of merges. With a sufficient amount of starting text, the vocabulary and merges would be sufficient to tokenize any text for input into a language model. \n",
    "\n",
    "That's it for now. In the next post I will go into some of the more nuanced modifications of BPE as done for GPT2. "
   ]
  },
  {
   "cell_type": "markdown",
   "metadata": {},
   "source": [
    "#### Support\n",
    "\n",
    "If you enjoy this blog and would like to support my work, you can [buy me a cup of coffee!](https://buy.stripe.com/00gdTY3JN926ghOfYY)"
   ]
  }
 ],
 "metadata": {
  "kernelspec": {
   "display_name": ".mlone",
   "language": "python",
   "name": "python3"
  },
  "language_info": {
   "codemirror_mode": {
    "name": "ipython",
    "version": 3
   },
   "file_extension": ".py",
   "mimetype": "text/x-python",
   "name": "python",
   "nbconvert_exporter": "python",
   "pygments_lexer": "ipython3",
   "version": "3.12.3"
  }
 },
 "nbformat": 4,
 "nbformat_minor": 2
}
